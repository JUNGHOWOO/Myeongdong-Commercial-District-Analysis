{
 "cells": [
  {
   "cell_type": "code",
   "execution_count": 45,
   "id": "c087cf10",
   "metadata": {},
   "outputs": [],
   "source": [
    "import pandas as pd"
   ]
  },
  {
   "cell_type": "code",
   "execution_count": 46,
   "id": "d0a2c1df",
   "metadata": {},
   "outputs": [],
   "source": [
    "df=pd.read_csv('서울시 우리마을가게 상권분석서비스(상권-추정매출).csv', encoding='cp949')"
   ]
  },
  {
   "cell_type": "code",
   "execution_count": 50,
   "id": "2afc8b39",
   "metadata": {},
   "outputs": [],
   "source": [
    "import matplotlib.pyplot as plt\n",
    "from matplotlib import font_manager, rc\n",
    "import matplotlib\n",
    "font_location='c:/Windows/fonts/malgun.ttf'\n",
    "font_name=font_manager.FontProperties(fname=font_location).get_name()\n",
    "matplotlib.rc('font',family=font_name)"
   ]
  },
  {
   "cell_type": "code",
   "execution_count": 51,
   "id": "4223cb2e",
   "metadata": {},
   "outputs": [],
   "source": [
    "df1=df[(df['상권_코드_명']=='명동(명동거리)')]"
   ]
  },
  {
   "cell_type": "code",
   "execution_count": 52,
   "id": "fe3b09fc",
   "metadata": {},
   "outputs": [
    {
     "data": {
      "text/html": [
       "<div>\n",
       "<style scoped>\n",
       "    .dataframe tbody tr th:only-of-type {\n",
       "        vertical-align: middle;\n",
       "    }\n",
       "\n",
       "    .dataframe tbody tr th {\n",
       "        vertical-align: top;\n",
       "    }\n",
       "\n",
       "    .dataframe thead th {\n",
       "        text-align: right;\n",
       "    }\n",
       "</style>\n",
       "<table border=\"1\" class=\"dataframe\">\n",
       "  <thead>\n",
       "    <tr style=\"text-align: right;\">\n",
       "      <th></th>\n",
       "      <th>서비스_업종_코드_명</th>\n",
       "      <th>점포수</th>\n",
       "    </tr>\n",
       "  </thead>\n",
       "  <tbody>\n",
       "    <tr>\n",
       "      <th>84277</th>\n",
       "      <td>한식음식점</td>\n",
       "      <td>346</td>\n",
       "    </tr>\n",
       "    <tr>\n",
       "      <th>84253</th>\n",
       "      <td>일반의류</td>\n",
       "      <td>214</td>\n",
       "    </tr>\n",
       "    <tr>\n",
       "      <th>84245</th>\n",
       "      <td>화장품</td>\n",
       "      <td>161</td>\n",
       "    </tr>\n",
       "    <tr>\n",
       "      <th>84268</th>\n",
       "      <td>커피-음료</td>\n",
       "      <td>133</td>\n",
       "    </tr>\n",
       "    <tr>\n",
       "      <th>84262</th>\n",
       "      <td>미용실</td>\n",
       "      <td>104</td>\n",
       "    </tr>\n",
       "    <tr>\n",
       "      <th>84267</th>\n",
       "      <td>일반의원</td>\n",
       "      <td>98</td>\n",
       "    </tr>\n",
       "    <tr>\n",
       "      <th>84270</th>\n",
       "      <td>분식전문점</td>\n",
       "      <td>87</td>\n",
       "    </tr>\n",
       "    <tr>\n",
       "      <th>84250</th>\n",
       "      <td>안경</td>\n",
       "      <td>66</td>\n",
       "    </tr>\n",
       "    <tr>\n",
       "      <th>84274</th>\n",
       "      <td>양식음식점</td>\n",
       "      <td>54</td>\n",
       "    </tr>\n",
       "    <tr>\n",
       "      <th>84248</th>\n",
       "      <td>의약품</td>\n",
       "      <td>54</td>\n",
       "    </tr>\n",
       "  </tbody>\n",
       "</table>\n",
       "</div>"
      ],
      "text/plain": [
       "      서비스_업종_코드_명  점포수\n",
       "84277       한식음식점  346\n",
       "84253        일반의류  214\n",
       "84245         화장품  161\n",
       "84268       커피-음료  133\n",
       "84262         미용실  104\n",
       "84267        일반의원   98\n",
       "84270       분식전문점   87\n",
       "84250          안경   66\n",
       "84274       양식음식점   54\n",
       "84248         의약품   54"
      ]
     },
     "execution_count": 52,
     "metadata": {},
     "output_type": "execute_result"
    }
   ],
   "source": [
    "df2=df1[(df1['기준_분기_코드']==2)][['서비스_업종_코드_명','점포수','분기당_매출_금액','분기당_매출_건수','주중_매출_비율']]\n",
    "df3=df2[['서비스_업종_코드_명','점포수']]\n",
    "df4=df3.sort_values('점포수', ascending=False).head(10)\n",
    "df4"
   ]
  },
  {
   "cell_type": "code",
   "execution_count": null,
   "id": "e9598ccd",
   "metadata": {},
   "outputs": [],
   "source": []
  },
  {
   "cell_type": "code",
   "execution_count": null,
   "id": "664de27b",
   "metadata": {},
   "outputs": [],
   "source": []
  }
 ],
 "metadata": {
  "kernelspec": {
   "display_name": "Python 3 (ipykernel)",
   "language": "python",
   "name": "python3"
  },
  "language_info": {
   "codemirror_mode": {
    "name": "ipython",
    "version": 3
   },
   "file_extension": ".py",
   "mimetype": "text/x-python",
   "name": "python",
   "nbconvert_exporter": "python",
   "pygments_lexer": "ipython3",
   "version": "3.9.7"
  }
 },
 "nbformat": 4,
 "nbformat_minor": 5
}
