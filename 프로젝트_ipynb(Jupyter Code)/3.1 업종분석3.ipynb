{
 "cells": [
  {
   "cell_type": "code",
   "execution_count": 1,
   "id": "1139bfb4",
   "metadata": {},
   "outputs": [],
   "source": [
    "import folium\n",
    "import pandas as pd\n",
    "import matplotlib.pyplot as plt\n",
    "from matplotlib import font_manager, rc\n",
    "import matplotlib\n",
    "font_location='c:/Windows/fonts/malgun.ttf'\n",
    "font_name=font_manager.FontProperties(fname=font_location).get_name()\n",
    "matplotlib.rc('font',family=font_name)"
   ]
  },
  {
   "cell_type": "code",
   "execution_count": 2,
   "id": "29049180",
   "metadata": {},
   "outputs": [],
   "source": [
    "df=pd.read_csv('서울시 중구 일반음식점 인허가 정보.csv', encoding='cp949')"
   ]
  },
  {
   "cell_type": "code",
   "execution_count": 3,
   "id": "954a1bd4",
   "metadata": {},
   "outputs": [],
   "source": [
    "df1=df.dropna(subset=['지번주소','좌표정보(X)','좌표정보(Y)'])"
   ]
  },
  {
   "cell_type": "code",
   "execution_count": 4,
   "id": "5f1fc7e2",
   "metadata": {},
   "outputs": [
    {
     "name": "stdout",
     "output_type": "stream",
     "text": [
      "<class 'pandas.core.frame.DataFrame'>\n",
      "Int64Index: 253 entries, 17 to 6254\n",
      "Data columns (total 44 columns):\n",
      " #   Column     Non-Null Count  Dtype  \n",
      "---  ------     --------------  -----  \n",
      " 0   개방자치단체코드   253 non-null    int64  \n",
      " 1   관리번호       253 non-null    object \n",
      " 2   인허가일자      253 non-null    int64  \n",
      " 3   인허가취소일자    0 non-null      float64\n",
      " 4   영업상태코드     253 non-null    int64  \n",
      " 5   영업상태명      253 non-null    object \n",
      " 6   상세영업상태코드   253 non-null    int64  \n",
      " 7   상세영업상태명    253 non-null    object \n",
      " 8   폐업일자       0 non-null      float64\n",
      " 9   휴업시작일자     0 non-null      float64\n",
      " 10  휴업종료일자     0 non-null      float64\n",
      " 11  재개업일자      0 non-null      float64\n",
      " 12  전화번호       179 non-null    object \n",
      " 13  소재지면적      253 non-null    float64\n",
      " 14  소재지우편번호    253 non-null    float64\n",
      " 15  지번주소       253 non-null    object \n",
      " 16  도로명주소      248 non-null    object \n",
      " 17  도로명우편번호    248 non-null    float64\n",
      " 18  사업장명       253 non-null    object \n",
      " 19  최종수정일자     253 non-null    int64  \n",
      " 20  데이터갱신구분    253 non-null    object \n",
      " 21  데이터갱신일자    253 non-null    object \n",
      " 22  업태구분명      253 non-null    object \n",
      " 23  좌표정보(X)    253 non-null    float64\n",
      " 24  좌표정보(Y)    253 non-null    float64\n",
      " 25  위생업태명      244 non-null    object \n",
      " 26  남성종사자수     116 non-null    float64\n",
      " 27  여성종사자수     116 non-null    float64\n",
      " 28  영업장주변구분명   90 non-null     object \n",
      " 29  등급구분명      89 non-null     object \n",
      " 30  급수시설구분명    134 non-null    object \n",
      " 31  총인원        11 non-null     float64\n",
      " 32  본사종업원수     11 non-null     float64\n",
      " 33  공장사무직종업원수  11 non-null     float64\n",
      " 34  공장판매직종업원수  11 non-null     float64\n",
      " 35  공장생산직종업원수  11 non-null     float64\n",
      " 36  건물소유구분명    0 non-null      float64\n",
      " 37  보증액        11 non-null     float64\n",
      " 38  월세액        11 non-null     float64\n",
      " 39  다중이용업소여부   244 non-null    object \n",
      " 40  시설총규모      244 non-null    float64\n",
      " 41  전통업소지정번호   0 non-null      object \n",
      " 42  전통업소주된음식   0 non-null      float64\n",
      " 43  홈페이지       0 non-null      float64\n",
      "dtypes: float64(23), int64(5), object(16)\n",
      "memory usage: 88.9+ KB\n"
     ]
    }
   ],
   "source": [
    "df2=df1[df1['지번주소'].str.contains('명동')]\n",
    "df2.info()"
   ]
  },
  {
   "cell_type": "code",
   "execution_count": 5,
   "id": "820e3bf1",
   "metadata": {},
   "outputs": [
    {
     "data": {
      "image/png": "[encoded data removed]",
      "text/plain": [
       "<Figure size 1440x720 with 1 Axes>"
      ]
     },
     "metadata": {
      "needs_background": "light"
     },
     "output_type": "display_data"
    }
   ],
   "source": [
    "plt.figure(figsize=(20,10))\n",
    "plt.scatter(df2['좌표정보(X)'], df2['좌표정보(Y)'], c='r')\n",
    "plt.show()"
   ]
  },
  {
   "cell_type": "code",
   "execution_count": 6,
   "id": "48844f32",
   "metadata": {
    "scrolled": true
   },
   "outputs": [
    {
     "data": {
      "text/html": [
       "<div>\n",
       "<style scoped>\n",
       "    .dataframe tbody tr th:only-of-type {\n",
       "        vertical-align: middle;\n",
       "    }\n",
       "\n",
       "    .dataframe tbody tr th {\n",
       "        vertical-align: top;\n",
       "    }\n",
       "\n",
       "    .dataframe thead th {\n",
       "        text-align: right;\n",
       "    }\n",
       "</style>\n",
       "<table border=\"1\" class=\"dataframe\">\n",
       "  <thead>\n",
       "    <tr style=\"text-align: right;\">\n",
       "      <th></th>\n",
       "      <th>업태구분명</th>\n",
       "    </tr>\n",
       "  </thead>\n",
       "  <tbody>\n",
       "    <tr>\n",
       "      <th>한식</th>\n",
       "      <td>103</td>\n",
       "    </tr>\n",
       "    <tr>\n",
       "      <th>경양식</th>\n",
       "      <td>40</td>\n",
       "    </tr>\n",
       "    <tr>\n",
       "      <th>기타</th>\n",
       "      <td>35</td>\n",
       "    </tr>\n",
       "    <tr>\n",
       "      <th>분식</th>\n",
       "      <td>25</td>\n",
       "    </tr>\n",
       "    <tr>\n",
       "      <th>중국식</th>\n",
       "      <td>13</td>\n",
       "    </tr>\n",
       "    <tr>\n",
       "      <th>일식</th>\n",
       "      <td>11</td>\n",
       "    </tr>\n",
       "    <tr>\n",
       "      <th>호프/통닭</th>\n",
       "      <td>9</td>\n",
       "    </tr>\n",
       "    <tr>\n",
       "      <th>까페</th>\n",
       "      <td>7</td>\n",
       "    </tr>\n",
       "    <tr>\n",
       "      <th>뷔페식</th>\n",
       "      <td>4</td>\n",
       "    </tr>\n",
       "    <tr>\n",
       "      <th>외국음식전문점(인도태국등)</th>\n",
       "      <td>3</td>\n",
       "    </tr>\n",
       "    <tr>\n",
       "      <th>정종/대포집/소주방</th>\n",
       "      <td>1</td>\n",
       "    </tr>\n",
       "    <tr>\n",
       "      <th>라이브카페</th>\n",
       "      <td>1</td>\n",
       "    </tr>\n",
       "    <tr>\n",
       "      <th>김밥(도시락)</th>\n",
       "      <td>1</td>\n",
       "    </tr>\n",
       "  </tbody>\n",
       "</table>\n",
       "</div>"
      ],
      "text/plain": [
       "                업태구분명\n",
       "한식                103\n",
       "경양식                40\n",
       "기타                 35\n",
       "분식                 25\n",
       "중국식                13\n",
       "일식                 11\n",
       "호프/통닭               9\n",
       "까페                  7\n",
       "뷔페식                 4\n",
       "외국음식전문점(인도태국등)      3\n",
       "정종/대포집/소주방          1\n",
       "라이브카페               1\n",
       "김밥(도시락)             1"
      ]
     },
     "execution_count": 6,
     "metadata": {},
     "output_type": "execute_result"
    }
   ],
   "source": [
    "df3=pd.DataFrame(df2['업태구분명'].value_counts())\n",
    "df3"
   ]
  },
  {
   "cell_type": "code",
   "execution_count": 10,
   "id": "1c391df5",
   "metadata": {
    "scrolled": false
   },
   "outputs": [
    {
     "data": {
      "image/png": "[encoded data removed]",
      "text/plain": [
       "<Figure size 1008x504 with 1 Axes>"
      ]
     },
     "metadata": {
      "needs_background": "light"
     },
     "output_type": "display_data"
    }
   ],
   "source": [
    "plt.figure(figsize=(14,7))\n",
    "plt.bar(df3.index,df3['업태구분명'], color='0.8')\n",
    "plt.xlabel('업종 개수', size=30)\n",
    "plt.ylabel('업종명', size=30)\n",
    "plt.xticks(rotation=45)\n",
    "plt.show()"
   ]
  },
  {
   "cell_type": "code",
   "execution_count": 11,
   "id": "918867c3",
   "metadata": {},
   "outputs": [],
   "source": [
    "df4=df.dropna(subset=['사업장명','지번주소','소재지면적'])"
   ]
  },
  {
   "cell_type": "code",
   "execution_count": 12,
   "id": "f2a1309f",
   "metadata": {},
   "outputs": [
    {
     "data": {
      "text/plain": [
       "157.1284705882352"
      ]
     },
     "execution_count": 12,
     "metadata": {},
     "output_type": "execute_result"
    }
   ],
   "source": [
    "df5=df4[df4['지번주소'].str.contains('명동')]\n",
    "df5['소재지면적'].mean()"
   ]
  },
  {
   "cell_type": "code",
   "execution_count": 13,
   "id": "443a28a9",
   "metadata": {},
   "outputs": [
    {
     "data": {
      "text/plain": [
       "아미소           2\n",
       "주식회사 명동교자     2\n",
       "더비            2\n",
       "유가네 닭갈비       2\n",
       "진사댁           2\n",
       "             ..\n",
       "내가 찜한닭        1\n",
       "셀             1\n",
       "이베떡달라붙는떡볶이    1\n",
       "예화당           1\n",
       "명동커피          1\n",
       "Name: 사업장명, Length: 249, dtype: int64"
      ]
     },
     "execution_count": 13,
     "metadata": {},
     "output_type": "execute_result"
    }
   ],
   "source": [
    "df5['사업장명'].value_counts()"
   ]
  },
  {
   "cell_type": "code",
   "execution_count": 18,
   "id": "e87160be",
   "metadata": {},
   "outputs": [
    {
     "data": {
      "text/html": [
       "<div>\n",
       "<style scoped>\n",
       "    .dataframe tbody tr th:only-of-type {\n",
       "        vertical-align: middle;\n",
       "    }\n",
       "\n",
       "    .dataframe tbody tr th {\n",
       "        vertical-align: top;\n",
       "    }\n",
       "\n",
       "    .dataframe thead th {\n",
       "        text-align: right;\n",
       "    }\n",
       "</style>\n",
       "<table border=\"1\" class=\"dataframe\">\n",
       "  <thead>\n",
       "    <tr style=\"text-align: right;\">\n",
       "      <th></th>\n",
       "      <th>사업장명</th>\n",
       "      <th>소재지면적</th>\n",
       "    </tr>\n",
       "  </thead>\n",
       "  <tbody>\n",
       "    <tr>\n",
       "      <th>4960</th>\n",
       "      <td>명동 파티?파티</td>\n",
       "      <td>877.78</td>\n",
       "    </tr>\n",
       "    <tr>\n",
       "      <th>3384</th>\n",
       "      <td>흑돈가 명동점</td>\n",
       "      <td>871.59</td>\n",
       "    </tr>\n",
       "    <tr>\n",
       "      <th>6001</th>\n",
       "      <td>뱅커스클럽 바이 반얀트리</td>\n",
       "      <td>854.00</td>\n",
       "    </tr>\n",
       "    <tr>\n",
       "      <th>3710</th>\n",
       "      <td>딘타이펑 명동중앙점</td>\n",
       "      <td>758.70</td>\n",
       "    </tr>\n",
       "    <tr>\n",
       "      <th>4949</th>\n",
       "      <td>(주)바이킹코리아</td>\n",
       "      <td>722.13</td>\n",
       "    </tr>\n",
       "    <tr>\n",
       "      <th>...</th>\n",
       "      <td>...</td>\n",
       "      <td>...</td>\n",
       "    </tr>\n",
       "    <tr>\n",
       "      <th>2804</th>\n",
       "      <td>반도참</td>\n",
       "      <td>13.20</td>\n",
       "    </tr>\n",
       "    <tr>\n",
       "      <th>3338</th>\n",
       "      <td>명동 대박집</td>\n",
       "      <td>10.81</td>\n",
       "    </tr>\n",
       "    <tr>\n",
       "      <th>3462</th>\n",
       "      <td>대학로 수제모찌 명동점</td>\n",
       "      <td>10.00</td>\n",
       "    </tr>\n",
       "    <tr>\n",
       "      <th>4231</th>\n",
       "      <td>범산목장 명동점</td>\n",
       "      <td>6.60</td>\n",
       "    </tr>\n",
       "    <tr>\n",
       "      <th>242</th>\n",
       "      <td>더크리</td>\n",
       "      <td>0.00</td>\n",
       "    </tr>\n",
       "  </tbody>\n",
       "</table>\n",
       "<p>255 rows × 2 columns</p>\n",
       "</div>"
      ],
      "text/plain": [
       "               사업장명   소재지면적\n",
       "4960       명동 파티?파티  877.78\n",
       "3384        흑돈가 명동점  871.59\n",
       "6001  뱅커스클럽 바이 반얀트리  854.00\n",
       "3710     딘타이펑 명동중앙점  758.70\n",
       "4949      (주)바이킹코리아  722.13\n",
       "...             ...     ...\n",
       "2804            반도참   13.20\n",
       "3338         명동 대박집   10.81\n",
       "3462   대학로 수제모찌 명동점   10.00\n",
       "4231       범산목장 명동점    6.60\n",
       "242             더크리    0.00\n",
       "\n",
       "[255 rows x 2 columns]"
      ]
     },
     "execution_count": 18,
     "metadata": {},
     "output_type": "execute_result"
    }
   ],
   "source": [
    "df6=df5.sort_values('소재지면적',ascending=False)\n",
    "df6[['사업장명','소재지면적']]"
   ]
  },
  {
   "cell_type": "code",
   "execution_count": 19,
   "id": "04ebae3a",
   "metadata": {},
   "outputs": [
    {
     "data": {
      "text/html": [
       "<div>\n",
       "<style scoped>\n",
       "    .dataframe tbody tr th:only-of-type {\n",
       "        vertical-align: middle;\n",
       "    }\n",
       "\n",
       "    .dataframe tbody tr th {\n",
       "        vertical-align: top;\n",
       "    }\n",
       "\n",
       "    .dataframe thead th {\n",
       "        text-align: right;\n",
       "    }\n",
       "</style>\n",
       "<table border=\"1\" class=\"dataframe\">\n",
       "  <thead>\n",
       "    <tr style=\"text-align: right;\">\n",
       "      <th></th>\n",
       "      <th>사업장명</th>\n",
       "      <th>소재지면적</th>\n",
       "    </tr>\n",
       "  </thead>\n",
       "  <tbody>\n",
       "    <tr>\n",
       "      <th>242</th>\n",
       "      <td>더크리</td>\n",
       "      <td>0.00</td>\n",
       "    </tr>\n",
       "    <tr>\n",
       "      <th>4231</th>\n",
       "      <td>범산목장 명동점</td>\n",
       "      <td>6.60</td>\n",
       "    </tr>\n",
       "    <tr>\n",
       "      <th>3462</th>\n",
       "      <td>대학로 수제모찌 명동점</td>\n",
       "      <td>10.00</td>\n",
       "    </tr>\n",
       "    <tr>\n",
       "      <th>3338</th>\n",
       "      <td>명동 대박집</td>\n",
       "      <td>10.81</td>\n",
       "    </tr>\n",
       "    <tr>\n",
       "      <th>2804</th>\n",
       "      <td>반도참</td>\n",
       "      <td>13.20</td>\n",
       "    </tr>\n",
       "    <tr>\n",
       "      <th>...</th>\n",
       "      <td>...</td>\n",
       "      <td>...</td>\n",
       "    </tr>\n",
       "    <tr>\n",
       "      <th>4949</th>\n",
       "      <td>(주)바이킹코리아</td>\n",
       "      <td>722.13</td>\n",
       "    </tr>\n",
       "    <tr>\n",
       "      <th>3710</th>\n",
       "      <td>딘타이펑 명동중앙점</td>\n",
       "      <td>758.70</td>\n",
       "    </tr>\n",
       "    <tr>\n",
       "      <th>6001</th>\n",
       "      <td>뱅커스클럽 바이 반얀트리</td>\n",
       "      <td>854.00</td>\n",
       "    </tr>\n",
       "    <tr>\n",
       "      <th>3384</th>\n",
       "      <td>흑돈가 명동점</td>\n",
       "      <td>871.59</td>\n",
       "    </tr>\n",
       "    <tr>\n",
       "      <th>4960</th>\n",
       "      <td>명동 파티?파티</td>\n",
       "      <td>877.78</td>\n",
       "    </tr>\n",
       "  </tbody>\n",
       "</table>\n",
       "<p>255 rows × 2 columns</p>\n",
       "</div>"
      ],
      "text/plain": [
       "               사업장명   소재지면적\n",
       "242             더크리    0.00\n",
       "4231       범산목장 명동점    6.60\n",
       "3462   대학로 수제모찌 명동점   10.00\n",
       "3338         명동 대박집   10.81\n",
       "2804            반도참   13.20\n",
       "...             ...     ...\n",
       "4949      (주)바이킹코리아  722.13\n",
       "3710     딘타이펑 명동중앙점  758.70\n",
       "6001  뱅커스클럽 바이 반얀트리  854.00\n",
       "3384        흑돈가 명동점  871.59\n",
       "4960       명동 파티?파티  877.78\n",
       "\n",
       "[255 rows x 2 columns]"
      ]
     },
     "execution_count": 19,
     "metadata": {},
     "output_type": "execute_result"
    }
   ],
   "source": [
    "df6=df5.sort_values('소재지면적')\n",
    "df6[['사업장명','소재지면적']]"
   ]
  },
  {
   "cell_type": "code",
   "execution_count": 89,
   "id": "abd85be8",
   "metadata": {},
   "outputs": [
    {
     "data": {
      "text/plain": [
       "N    5563\n",
       "Y     566\n",
       "Name: 다중이용업소여부, dtype: int64"
      ]
     },
     "execution_count": 89,
     "metadata": {},
     "output_type": "execute_result"
    }
   ],
   "source": [
    "df5=df.dropna(subset=['지번주소','다중이용업소여부'])\n",
    "df5['다중이용업소여부'].value_counts()"
   ]
  },
  {
   "cell_type": "code",
   "execution_count": 95,
   "id": "4c5cea37",
   "metadata": {},
   "outputs": [
    {
     "data": {
      "text/plain": [
       "159.30414634146334"
      ]
     },
     "execution_count": 95,
     "metadata": {},
     "output_type": "execute_result"
    }
   ],
   "source": [
    "df4=df.dropna(subset=['지번주소','시설총규모'])\n",
    "df5=df4[df4['지번주소'].str.contains('명동')]\n",
    "df5['시설총규모'].mean()"
   ]
  },
  {
   "cell_type": "code",
   "execution_count": 98,
   "id": "ac54f39d",
   "metadata": {},
   "outputs": [
    {
     "name": "stdout",
     "output_type": "stream",
     "text": [
      "<class 'pandas.core.frame.DataFrame'>\n",
      "Int64Index: 255 entries, 17 to 6254\n",
      "Data columns (total 44 columns):\n",
      " #   Column     Non-Null Count  Dtype  \n",
      "---  ------     --------------  -----  \n",
      " 0   개방자치단체코드   255 non-null    int64  \n",
      " 1   관리번호       255 non-null    object \n",
      " 2   인허가일자      255 non-null    int64  \n",
      " 3   인허가취소일자    0 non-null      float64\n",
      " 4   영업상태코드     255 non-null    int64  \n",
      " 5   영업상태명      255 non-null    object \n",
      " 6   상세영업상태코드   255 non-null    int64  \n",
      " 7   상세영업상태명    255 non-null    object \n",
      " 8   폐업일자       0 non-null      float64\n",
      " 9   휴업시작일자     0 non-null      float64\n",
      " 10  휴업종료일자     0 non-null      float64\n",
      " 11  재개업일자      0 non-null      float64\n",
      " 12  전화번호       181 non-null    object \n",
      " 13  소재지면적      255 non-null    float64\n",
      " 14  소재지우편번호    255 non-null    float64\n",
      " 15  지번주소       255 non-null    object \n",
      " 16  도로명주소      248 non-null    object \n",
      " 17  도로명우편번호    248 non-null    float64\n",
      " 18  사업장명       255 non-null    object \n",
      " 19  최종수정일자     255 non-null    int64  \n",
      " 20  데이터갱신구분    255 non-null    object \n",
      " 21  데이터갱신일자    255 non-null    object \n",
      " 22  업태구분명      255 non-null    object \n",
      " 23  좌표정보(X)    253 non-null    float64\n",
      " 24  좌표정보(Y)    253 non-null    float64\n",
      " 25  위생업태명      246 non-null    object \n",
      " 26  남성종사자수     118 non-null    float64\n",
      " 27  여성종사자수     118 non-null    float64\n",
      " 28  영업장주변구분명   92 non-null     object \n",
      " 29  등급구분명      91 non-null     object \n",
      " 30  급수시설구분명    136 non-null    object \n",
      " 31  총인원        11 non-null     float64\n",
      " 32  본사종업원수     11 non-null     float64\n",
      " 33  공장사무직종업원수  11 non-null     float64\n",
      " 34  공장판매직종업원수  11 non-null     float64\n",
      " 35  공장생산직종업원수  11 non-null     float64\n",
      " 36  건물소유구분명    0 non-null      float64\n",
      " 37  보증액        11 non-null     float64\n",
      " 38  월세액        11 non-null     float64\n",
      " 39  다중이용업소여부   246 non-null    object \n",
      " 40  시설총규모      246 non-null    float64\n",
      " 41  전통업소지정번호   0 non-null      object \n",
      " 42  전통업소주된음식   0 non-null      float64\n",
      " 43  홈페이지       0 non-null      float64\n",
      "dtypes: float64(23), int64(5), object(16)\n",
      "memory usage: 89.6+ KB\n"
     ]
    }
   ],
   "source": [
    "df4=df.dropna(subset=['지번주소'])\n",
    "df5=df4[df4['지번주소'].str.contains('명동')]\n",
    "df5.info()"
   ]
  },
  {
   "cell_type": "code",
   "execution_count": null,
   "id": "c5c99ad2",
   "metadata": {},
   "outputs": [],
   "source": []
  }
 ],
 "metadata": {
  "kernelspec": {
   "display_name": "Python 3 (ipykernel)",
   "language": "python",
   "name": "python3"
  },
  "language_info": {
   "codemirror_mode": {
    "name": "ipython",
    "version": 3
   },
   "file_extension": ".py",
   "mimetype": "text/x-python",
   "name": "python",
   "nbconvert_exporter": "python",
   "pygments_lexer": "ipython3",
   "version": "3.9.7"
  }
 },
 "nbformat": 4,
 "nbformat_minor": 5
}
