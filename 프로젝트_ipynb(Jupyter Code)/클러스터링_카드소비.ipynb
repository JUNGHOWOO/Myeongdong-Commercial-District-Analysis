{
 "cells": [
  {
   "cell_type": "code",
   "execution_count": null,
   "id": "ece81490",
   "metadata": {},
   "outputs": [],
   "source": [
    "import pandas as pd\n",
    "import matplotlib.pyplot as plt\n",
    "from sklearn.preprocessing import StandardScaler\n",
    "from sklearn.cluster import KMeans"
   ]
  },
  {
   "cell_type": "code",
   "execution_count": null,
   "id": "6c380447",
   "metadata": {},
   "outputs": [],
   "source": [
    "import matplotlib\n",
    "from matplotlib import font_manager, rc\n",
    "font_location='c:/Windows/fonts/malgun.ttf'\n",
    "font_name=font_manager.FontProperties(fname=font_location).get_name()\n",
    "matplotlib.rc('font',family=font_name)"
   ]
  },
  {
   "cell_type": "code",
   "execution_count": null,
   "id": "1a74f14f",
   "metadata": {},
   "outputs": [],
   "source": [
    "df=pd.read_excel('카드.xlsx')\n",
    "df"
   ]
  },
  {
   "cell_type": "code",
   "execution_count": null,
   "id": "970e6721",
   "metadata": {},
   "outputs": [],
   "source": [
    "df['이용일자']=df['이용일자'].astype(str)"
   ]
  },
  {
   "cell_type": "code",
   "execution_count": null,
   "id": "4eadddcc",
   "metadata": {},
   "outputs": [],
   "source": [
    "for i in range(len(df)):\n",
    "    df.loc[i,'이용일자']=df.loc[i,'이용일자'][4:6]"
   ]
  },
  {
   "cell_type": "code",
   "execution_count": null,
   "id": "fe5da8fa",
   "metadata": {},
   "outputs": [],
   "source": [
    "df['이용일자']=df['이용일자'].astype(int)"
   ]
  },
  {
   "cell_type": "code",
   "execution_count": null,
   "id": "eb6106e9",
   "metadata": {},
   "outputs": [],
   "source": [
    "df=df.rename(columns={'이용일자':'이용월'})"
   ]
  },
  {
   "cell_type": "code",
   "execution_count": null,
   "id": "7e6de86b",
   "metadata": {},
   "outputs": [],
   "source": [
    "df['업종대분류']=df['업종대분류'].replace(\n",
    "    {'가전/가구':0,\n",
    "    '가정생활/서비스':1,\n",
    "    '교육/학원':2,\n",
    "    '미용':3,\n",
    "    '스포츠/문화/레저':4,\n",
    "    '여행/교통':5,\n",
    "    '요식/유흥':6,\n",
    "    '유통':7,\n",
    "    '음/식료품':8,\n",
    "    '의료':9,\n",
    "    '자동차':10,\n",
    "    '주유':11,\n",
    "    '패션/잡화':12})"
   ]
  },
  {
   "cell_type": "code",
   "execution_count": null,
   "id": "d1fa5ac7",
   "metadata": {},
   "outputs": [],
   "source": [
    "X=df[['이용월', '카드결제건수(천건)']].values\n",
    "X"
   ]
  },
  {
   "cell_type": "code",
   "execution_count": null,
   "id": "70e26856",
   "metadata": {},
   "outputs": [],
   "source": [
    "kmeans=KMeans(n_clusters=9)"
   ]
  },
  {
   "cell_type": "code",
   "execution_count": null,
   "id": "f2176487",
   "metadata": {},
   "outputs": [],
   "source": [
    "kmeans.fit(X)"
   ]
  },
  {
   "cell_type": "code",
   "execution_count": null,
   "id": "a66f5980",
   "metadata": {},
   "outputs": [],
   "source": [
    "kmeans.predict(X)"
   ]
  },
  {
   "cell_type": "code",
   "execution_count": null,
   "id": "7754d8c1",
   "metadata": {},
   "outputs": [],
   "source": [
    "kmeans.labels_"
   ]
  },
  {
   "cell_type": "code",
   "execution_count": null,
   "id": "916134ae",
   "metadata": {},
   "outputs": [],
   "source": [
    "kmeans.inertia_"
   ]
  },
  {
   "cell_type": "code",
   "execution_count": null,
   "id": "9d2d9848",
   "metadata": {},
   "outputs": [],
   "source": [
    "result = []\n",
    "for i in range(1,11):\n",
    "    kmeans = KMeans(n_clusters=i)\n",
    "    kmeans.fit(X)\n",
    "    print(i, kmeans.inertia_)\n",
    "    result.append(kmeans.inertia_)"
   ]
  },
  {
   "cell_type": "code",
   "execution_count": null,
   "id": "e0150b9c",
   "metadata": {},
   "outputs": [],
   "source": [
    "df['클러스터번호']=kmeans.predict(X)"
   ]
  },
  {
   "cell_type": "code",
   "execution_count": null,
   "id": "c5661210",
   "metadata": {},
   "outputs": [],
   "source": [
    "plt.figure(figsize=(10,8))\n",
    "plt.title('월별 소비자 카드 사용 경향', fontsize=20)\n",
    "ax=plt.gca()\n",
    "ax.set_facecolor('#212946')\n",
    "plt.ylabel('카드소비건수', fontsize=15)\n",
    "plt.xlabel('월', fontsize=15)\n",
    "plt.scatter(df[df['클러스터번호']==0]['이용월'],\n",
    "            df[df['클러스터번호']==0]['카드결제건수(천건)'],\n",
    "           s=100,color='aqua', alpha=.6, edgecolor='black', label = 'Cluster 0')\n",
    "plt.scatter(df[df['클러스터번호']==1]['이용월'],\n",
    "            df[df['클러스터번호']==1]['카드결제건수(천건)'],\n",
    "            s=100, label = 'Cluster 1',color='aqua', alpha=.6, edgecolor='black')\n",
    "plt.scatter(df[df['클러스터번호']==2]['이용월'],\n",
    "            df[df['클러스터번호']==2]['카드결제건수(천건)'],\n",
    "            s=100, label = 'Cluster 2',color='aqua', alpha=.6, edgecolor='black')\n",
    "plt.scatter(df[df['클러스터번호']==3]['이용월'],\n",
    "            df[df['클러스터번호']==3]['카드결제건수(천건)'],\n",
    "            s=100, label = 'Cluster 3',color='aqua', alpha=.6, edgecolor='black')\n",
    "plt.scatter(df[df['클러스터번호']==4]['이용월'],\n",
    "            df[df['클러스터번호']==4]['카드결제건수(천건)'],\n",
    "            s=100, label = 'Cluster 4',color='aqua', alpha=.6, edgecolor='black')\n",
    "plt.scatter(df[df['클러스터번호']==5]['이용월'],\n",
    "            df[df['클러스터번호']==5]['카드결제건수(천건)'],\n",
    "            s=100, label = 'Cluster 5',color='aqua', alpha=.6, edgecolor='black')\n",
    "plt.scatter(df[df['클러스터번호']==6]['이용월'],\n",
    "            df[df['클러스터번호']==6]['카드결제건수(천건)'],\n",
    "            s=100, label = 'Cluster 6',color='aqua', alpha=.6, edgecolor='black')\n",
    "plt.scatter(df[df['클러스터번호']==7]['이용월'],\n",
    "            df[df['클러스터번호']==7]['카드결제건수(천건)'],\n",
    "            s=100, label = 'Cluster 7',color='aqua', alpha=.6, edgecolor='black')\n",
    "plt.scatter(df[df['클러스터번호']==8]['이용월'],\n",
    "            df[df['클러스터번호']==8]['카드결제건수(천건)'],\n",
    "            s=100, label = 'Cluster 8',color='aqua', alpha=.6, edgecolor='black')\n",
    "plt.scatter(df[df['클러스터번호']==9]['이용월'],\n",
    "            df[df['클러스터번호']==9]['카드결제건수(천건)'],\n",
    "            s=100, label = 'Cluster 9',color='aqua', alpha=.6, edgecolor='black')"
   ]
  },
  {
   "cell_type": "code",
   "execution_count": null,
   "id": "92a03622",
   "metadata": {},
   "outputs": [],
   "source": []
  },
  {
   "cell_type": "code",
   "execution_count": null,
   "id": "ed93d9b7",
   "metadata": {},
   "outputs": [],
   "source": []
  },
  {
   "cell_type": "code",
   "execution_count": null,
   "id": "37751b17",
   "metadata": {},
   "outputs": [],
   "source": []
  },
  {
   "cell_type": "code",
   "execution_count": null,
   "id": "97a070a5",
   "metadata": {},
   "outputs": [],
   "source": []
  },
  {
   "cell_type": "code",
   "execution_count": null,
   "id": "ca5a5a21",
   "metadata": {},
   "outputs": [],
   "source": []
  }
 ],
 "metadata": {
  "kernelspec": {
   "display_name": "Python 3 (ipykernel)",
   "language": "python",
   "name": "python3"
  },
  "language_info": {
   "codemirror_mode": {
    "name": "ipython",
    "version": 3
   },
   "file_extension": ".py",
   "mimetype": "text/x-python",
   "name": "python",
   "nbconvert_exporter": "python",
   "pygments_lexer": "ipython3",
   "version": "3.9.7"
  }
 },
 "nbformat": 4,
 "nbformat_minor": 5
}
