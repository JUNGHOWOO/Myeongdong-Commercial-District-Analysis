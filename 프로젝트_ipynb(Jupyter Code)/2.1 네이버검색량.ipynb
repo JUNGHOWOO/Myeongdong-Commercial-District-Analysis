{
 "cells": [
  {
   "cell_type": "code",
   "execution_count": null,
   "id": "ef4a15f6",
   "metadata": {},
   "outputs": [],
   "source": [
    "import pandas as pd"
   ]
  },
  {
   "cell_type": "code",
   "execution_count": null,
   "id": "da229955",
   "metadata": {},
   "outputs": [],
   "source": [
    "df=pd.read_csv('명동맛집.csv', encoding='cp949')"
   ]
  },
  {
   "cell_type": "code",
   "execution_count": null,
   "id": "54aaaa0f",
   "metadata": {},
   "outputs": [],
   "source": [
    "df1=df[df['연관키워드'].str.contains('명동')].reset_index()\n",
    "del df1['index']\n",
    "del df1['월평균노출 광고수']\n",
    "del df1['경쟁정도']\n",
    "del df1['월평균클릭률(모바일)']\n",
    "del df1['월평균클릭률(PC)']\n",
    "df1['월간검색수(PC)']=df1['월간검색수(PC)'].str.replace(',','')\n",
    "df1['월간검색수(PC)']=df1['월간검색수(PC)'].astype(int)\n",
    "df1['월간검색수(모바일)']=df1['월간검색수(모바일)'].str.replace(',','')\n",
    "df1['월간검색수(모바일)']=df1['월간검색수(모바일)'].astype(int)"
   ]
  },
  {
   "cell_type": "code",
   "execution_count": null,
   "id": "0f9c05a7",
   "metadata": {},
   "outputs": [],
   "source": [
    "df2=df1.sort_values('월간검색수(모바일)', ascending=False)\n",
    "df2=df2.reset_index()\n",
    "del df2['index']\n",
    "df2"
   ]
  },
  {
   "cell_type": "code",
   "execution_count": null,
   "id": "e7b0ca8f",
   "metadata": {},
   "outputs": [],
   "source": [
    "import matplotlib.pyplot as plt\n",
    "from matplotlib import font_manager, rc\n",
    "import matplotlib\n",
    "font_location='c:/Windows/fonts/malgun.ttf'\n",
    "font_name=font_manager.FontProperties(fname=font_location).get_name()\n",
    "matplotlib.rc('font',family=font_name)"
   ]
  },
  {
   "cell_type": "code",
   "execution_count": null,
   "id": "4d27e1df",
   "metadata": {},
   "outputs": [],
   "source": [
    "plt.figure(figsize=(14,7))\n",
    "plt.bar(df2['연관키워드'].head(10), df2['월간검색수(모바일)'].head(10))\n",
    "plt.xlabel('검색횟수', size=20)\n",
    "plt.ylabel('검색 단어', size=20)\n",
    "plt.title('월간 검색량 통계', size=30)\n",
    "plt.grid(alpha=0.5)\n",
    "plt.xticks(rotation=45)\n",
    "plt.show()"
   ]
  },
  {
   "cell_type": "code",
   "execution_count": null,
   "id": "decc0251",
   "metadata": {},
   "outputs": [],
   "source": []
  }
 ],
 "metadata": {
  "kernelspec": {
   "display_name": "Python 3 (ipykernel)",
   "language": "python",
   "name": "python3"
  },
  "language_info": {
   "codemirror_mode": {
    "name": "ipython",
    "version": 3
   },
   "file_extension": ".py",
   "mimetype": "text/x-python",
   "name": "python",
   "nbconvert_exporter": "python",
   "pygments_lexer": "ipython3",
   "version": "3.9.7"
  }
 },
 "nbformat": 4,
 "nbformat_minor": 5
}
