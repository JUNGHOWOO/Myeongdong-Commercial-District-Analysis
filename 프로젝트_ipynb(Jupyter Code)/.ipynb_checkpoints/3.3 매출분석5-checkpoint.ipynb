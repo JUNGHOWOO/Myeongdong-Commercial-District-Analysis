{
 "cells": [
  {
   "cell_type": "code",
   "execution_count": 1,
   "id": "7367af8c",
   "metadata": {},
   "outputs": [],
   "source": [
    "import pandas as pd"
   ]
  },
  {
   "cell_type": "code",
   "execution_count": 2,
   "id": "f03b47f4",
   "metadata": {},
   "outputs": [],
   "source": [
    "df=pd.read_csv('서울시 우리마을가게 상권분석서비스(상권-추정매출).csv', encoding='cp949')\n",
    "df2=pd.read_csv('서울시_우리마을가게_상권분석서비스(상권_추정매출)_2019년.csv', encoding='cp949')"
   ]
  },
  {
   "cell_type": "code",
   "execution_count": 3,
   "id": "116aff56",
   "metadata": {},
   "outputs": [],
   "source": [
    "import matplotlib.pyplot as plt\n",
    "from matplotlib import font_manager, rc\n",
    "import matplotlib\n",
    "font_location='c:/Windows/fonts/malgun.ttf'\n",
    "font_name=font_manager.FontProperties(fname=font_location).get_name()\n",
    "matplotlib.rc('font',family=font_name)"
   ]
  },
  {
   "cell_type": "code",
   "execution_count": 4,
   "id": "db55cae8",
   "metadata": {},
   "outputs": [],
   "source": [
    "df1=df[(df['상권_코드_명']=='명동(명동거리)')]\n",
    "df3=df2[(df2['상권_코드_명']=='명동(명동거리)')]"
   ]
  },
  {
   "cell_type": "code",
   "execution_count": 5,
   "id": "b91c02a1",
   "metadata": {},
   "outputs": [],
   "source": [
    "df2=df1.groupby('기준_분기_코드').sum().reset_index()\n",
    "df4=df3.groupby('기준_분기_코드').sum().reset_index()"
   ]
  },
  {
   "cell_type": "code",
   "execution_count": 6,
   "id": "49037a51",
   "metadata": {},
   "outputs": [],
   "source": [
    "df2=df2[['기준_분기_코드','점포수']]\n",
    "df4=df4[['기준_분기_코드','점포수']]"
   ]
  },
  {
   "cell_type": "code",
   "execution_count": 8,
   "id": "cc7e72cb",
   "metadata": {},
   "outputs": [
    {
     "data": {
      "text/plain": [
       "[1, 2, 3, 4]"
      ]
     },
     "execution_count": 8,
     "metadata": {},
     "output_type": "execute_result"
    }
   ],
   "source": [
    "x=[1,2,3,4]\n",
    "x"
   ]
  },
  {
   "cell_type": "code",
   "execution_count": 11,
   "id": "cdb2068f",
   "metadata": {},
   "outputs": [
    {
     "data": {
      "image/png": "[encoded data removed]",
      "text/plain": [
       "<Figure size 1008x504 with 1 Axes>"
      ]
     },
     "metadata": {
      "needs_background": "light"
     },
     "output_type": "display_data"
    }
   ],
   "source": [
    "plt.figure(figsize=(14,7))\n",
    "plt.bar(df4['기준_분기_코드'], df4['점포수'],width=0.3, label='2019')\n",
    "plt.bar(df2['기준_분기_코드']+0.3, df2['점포수'],width=0.3,label='2021')\n",
    "plt.legend(fontsize=20)\n",
    "plt.xlabel('분기', size=30)\n",
    "plt.ylabel('점포수', size=30)\n",
    "plt.title('', size=20)\n",
    "plt.xticks(x, rotation=0)\n",
    "plt.show()"
   ]
  },
  {
   "cell_type": "code",
   "execution_count": null,
   "id": "bff7385a",
   "metadata": {},
   "outputs": [],
   "source": []
  }
 ],
 "metadata": {
  "kernelspec": {
   "display_name": "Python 3 (ipykernel)",
   "language": "python",
   "name": "python3"
  },
  "language_info": {
   "codemirror_mode": {
    "name": "ipython",
    "version": 3
   },
   "file_extension": ".py",
   "mimetype": "text/x-python",
   "name": "python",
   "nbconvert_exporter": "python",
   "pygments_lexer": "ipython3",
   "version": "3.9.7"
  }
 },
 "nbformat": 4,
 "nbformat_minor": 5
}
